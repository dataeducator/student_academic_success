{
 "cells": [
  {
   "cell_type": "markdown",
   "id": "dfc199ec-9287-4af8-a2f8-6821cc29777d",
   "metadata": {},
   "source": [
    "# Final Project Submission: Student Academic Sucess Classification Model Analysis\n",
    "__(Phase 3)__\n",
    "\n",
    "* Student Name: Tenicka Norwood\n",
    "* Program Pace: self paced\n",
    "* Scheduled Project Review Time: \n",
    "* Instructor name: Morgan Jones\n",
    "* Blog post Url: https://medium.com/@tenicka.norwood/the-meaning-of-life-the-universe-and-everything-9423dcb79c06"
   ]
  },
  {
   "cell_type": "markdown",
   "id": "af752f2f-ec7e-45f9-a82a-d53f14af81dc",
   "metadata": {},
   "source": [
    "## Overview"
   ]
  },
  {
   "cell_type": "markdown",
   "id": "a8b09269-61b1-43e4-8535-08ac59bb475d",
   "metadata": {},
   "source": [
    "## Business and Data Understanding"
   ]
  },
  {
   "cell_type": "markdown",
   "id": "f8c5b72a-4e65-4746-8f4e-75f34a65d845",
   "metadata": {},
   "source": [
    "### Import libraries and Visualization Packages\n",
    "Importing libraries at the beginning allows access to modules and other tools throughout this project that help to make the tasks within this project manageable to implement. The main libraries that will be used within this project include:\n",
    "\n",
    "* <code>pandas</code>: a data analysis and manipulation library which allows for flexible reading, writing, and reshaping of data\n",
    "* <code>numpy</code>: a key library that brings the computationaly power of languages like C to Python\n",
    "* <code>matplotlib</code>: a comprehensive visualization library\n",
    "* <code>seaborn</code>: a data visualization library based on matplotlib\n",
    "* <code>stasmodels</code>:\n",
    "* <code>selenium</code>:a library used to perform web testing tasks, useful for scraping data \n",
    "* <code>geopy</code>: a library that converts addresses in to geographical locations and vice versa\n",
    "* <code>requests</code>: a library that make HTTP requests and interacts with web services"
   ]
  },
  {
   "cell_type": "code",
   "execution_count": 1,
   "id": "7573fe44-1d15-451f-b21a-cb18ecfcc6ac",
   "metadata": {},
   "outputs": [],
   "source": [
    "# Import libraries and visualization packages\n",
    "import pandas as pd\n",
    "import numpy as np\n",
    "import seaborn as sns\n",
    "import matplotlib.pyplot as plt\n",
    "import matplotlib.ticker as ticker\n",
    "import statsmodels.api as sm\n",
    "import geopandas as gpd\n",
    "import plotly.express as px\n",
    "from selenium import webdriver\n",
    "from selenium.common.exceptions import WebDriverException\n",
    "from geopy.distance import geodesic\n",
    "import requests\n",
    "import json\n",
    "import warnings\n",
    "warnings.simplefilter(action ='ignore', category = DeprecationWarning)\n",
    "warnings.simplefilter(action ='ignore', category = FutureWarning)\n",
    "warnings.filterwarnings(\"ignore\", category=UserWarning, module=\"pandas\")\n",
    "\n",
    "# Allow plots to display and be stored inline within a notebook\n",
    "%matplotlib inline\n",
    "\n",
    "# Used for working with the z-score \n",
    "from scipy import stats\n",
    "\n",
    "# Used for working with long url\n",
    "from urllib.parse import urlencode\n",
    "\n",
    "# Set display option to readable format\n",
    "pd.set_option('display.float_format', lambda x: '%.2f' % x)\n",
    "\n",
    "# Filter warnings from pandas\n",
    "pd.options.mode.chained_assignment = None"
   ]
  },
  {
   "cell_type": "markdown",
   "id": "7832fc91-802f-4acd-8d28-94873f5b5772",
   "metadata": {},
   "source": [
    "## Modeling"
   ]
  },
  {
   "cell_type": "markdown",
   "id": "1c205000-fc20-40d4-b45d-d31716289186",
   "metadata": {},
   "source": [
    "## Evaluation"
   ]
  },
  {
   "cell_type": "markdown",
   "id": "7a1cb848-3356-4eff-b128-36f3df865181",
   "metadata": {},
   "source": [
    "## Recommendations"
   ]
  },
  {
   "cell_type": "code",
   "execution_count": null,
   "id": "8eebaee1-90b2-4551-817b-9cb398381a27",
   "metadata": {},
   "outputs": [],
   "source": []
  }
 ],
 "metadata": {
  "kernelspec": {
   "display_name": "Python (learn-env)",
   "language": "python",
   "name": "learn-env"
  },
  "language_info": {
   "codemirror_mode": {
    "name": "ipython",
    "version": 3
   },
   "file_extension": ".py",
   "mimetype": "text/x-python",
   "name": "python",
   "nbconvert_exporter": "python",
   "pygments_lexer": "ipython3",
   "version": "3.8.5"
  }
 },
 "nbformat": 4,
 "nbformat_minor": 5
}
