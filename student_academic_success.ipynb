{
 "cells": [
  {
   "cell_type": "markdown",
   "id": "90787f4a",
   "metadata": {},
   "source": [
    "# Final Project Submission: Student Academic Sucess Classification Model Analysis\n",
    "__(Phase 3)__\n",
    "\n",
    "* Student Name: Tenicka Norwood\n",
    "* Program Pace: self paced\n",
    "* Scheduled Project Review Time: \n",
    "* Instructor name: Morgan Jones\n",
    "* Blog post Url: https://medium.com/@tenicka.norwood/the-meaning-of-life-the-universe-and-everything-9423dcb79c06"
   ]
  },
  {
   "cell_type": "markdown",
   "id": "e0b1b009",
   "metadata": {},
   "source": [
    "## Business Understanding"
   ]
  },
  {
   "cell_type": "markdown",
   "id": "afde21a5",
   "metadata": {},
   "source": [
    "Colleges and Universities face the ever pressing challgence of identifying students who are at risk of not graduating on time and providing effective interventions to move those students back onto a positive pathway to graduation. \n",
    "> The completion rates of (US) undergraduates within six years of enrollment stand at only __62.3%__ as of 2022.\n",
    ">\n",
    "> -- Hanneh Bareham and Chelsea Wing (bankrate.com)\n",
    ">\n",
    "> \n",
    ">\n",
    "\n",
    "Carnevale et. al. (2021) Georgetown University in their study highlighted the substantial disparity in lifetime earnings based on educational attainment. In particular, the gist of this study showed that an average person with only a high school diploma or GED will earn an estimated  __1.6  million dollars__ in their lifetime, compared to a person with a bachelor's degree who potentially can earn ~__2.8 million dollars__ in their lifetime. This profound disparity in earning potential underscores the transformative power of higher education and highlights the significance of timely graduation in enhancing students' long-term financial security."
   ]
  },
  {
   "cell_type": "markdown",
   "id": "a1c79bb7",
   "metadata": {},
   "source": [
    "## Data Understanding"
   ]
  },
  {
   "cell_type": "markdown",
   "id": "016487f5",
   "metadata": {},
   "source": [
    "The University of California (Irvine) hosts a machine learning repository with datasets that can be evaluated using machine learning techniques. The dataset used in this exploration can be found [here](https://archive.ics.uci.edu/dataset/697/predict+students+dropout+and+academic+success). This datset was created as a part of a project to reduce academic dropout and failure rates in higher edcuation by leveraging machine learning to identify at risk students early within their academic careers and provide them support to improve their likelihood of on time graduation.  \n",
    "\n",
    "The data includes information that is known from the time a student enrolls including their:\n",
    "- academic path\n",
    "- demographics\n",
    "- social-economic factors\n",
    "\n",
    "There are three classifications of students within this dataset:\n",
    "- dropout\n",
    "- enrolled\n",
    "- graduate\n",
    "\n",
    "The data was preprocessed to address missing values and anomalies. The dataset has __37__ columns with __4424__ rows of data.\n",
    "\n",
    "### Features\n",
    "\n",
    "|Name | Role | Type| Data Type   |Description | \n",
    "|-------|---------|----- |------------- |----------|\n",
    "|Martial Status| Feature| Discrete|int|1 &mdash; single 2 &mdash; married 3 &mdash; widowed 4 &mdash; divorced 5 &mdash; facto union  6 &mdash; legally separated| \n",
    "|Application mode|Feature|Discrete|int |1 &ndash; 1st phase &ndash; general contingent 2 &ndash;Ordinance No. 612/93 <br> 5 &ndash; 1st phase &ndash; special contingent (Azores Island) 7&ndash; Holders of other higher courses 10 &ndash; Ordinance No. 854-B/99 15 &ndash;International student (bachelor) 16 &ndash; 1st phase &ndash; special contingent (Madeira Island) 17 &ndash; 2nd phase &ndash; general contingent 18 &ndash; 3rd phase &ndash; general contingent 26 &ndash; Ordinance No. 533-A/99, item b2) (Different Plan) 27 - Ordinance No. 533-A/99, item b3 (Other Institution) 39 &ndash; Over 23 years old 42 &ndash; Transfer 43 &ndash; Change of course 44 &ndash; Technological specialization diploma holders 51 &ndash; Change of institution/course 53 &ndash; Short cycle diploma holders 57 &ndash; Change of institution/course (International)|\n",
    "|Application order|Feature|Discrete|int|Application order <br> between 0 - first choice; and 9 last choice|\n",
    "|Course|Feature|Discrete|int |33 - Biofuel Production Technologies 171 - Animation and Multimedia Design 8014 - Social Service (evening attendance) 9003 - Agronomy 9070 - Communication Design 9085 - Veterinary Nursing 9119 - Informatics Engineering 9130 - Equinculture 9147 - Management 9238 - Social Service 9254 - Tourism 9500 - Nursing 9556 - Oral Hygiene 9670 - Advertising and Marketing Management 9773 - Journalism and Communication 9853 - Basic Education 9991 - Management (evening attendance)|\t\n",
    "|Daytime/evening attendance|Feature|Discrete|int|1 &mdash; daytime 0 &mdash; evening|\n",
    "|Previous qualification|Feature|Discrete|int|1  &ndash; Secondary education 2  &ndash; Higher education - bachelor's degree 3  &ndash; Higher education - degree 4  &ndash; Higher education - master's    <br> 5&ndash; Higher education - doctorate   6  &ndash; Frequency of higher education 9 - 12th year of schooling - not completed 10 - 11th year of schooling - not completed 12  &ndash; Other  &ndash; 11th year of schooling  14  &ndash; 10th year of schooling 15  &ndash; 10th year of schooling - not completed 19 - Basic education 3rd cycle (9th/10th/11th year) or equiv. 38  &ndash; Basic education 2nd cycle (6th/7th/8th year) or equiv. <br>39  &ndash; Technological specialization course 40  &ndash; Higher education - degree (1st cycle) 42  &ndash; Professional higher technical course<br> 43  &ndash; Higher education - master (2nd cycle)|\n",
    "|Previous qualification (grade)|Feature|Continuous|float|Grade of previous qualification <br> between 0 and 200|\n",
    "|Nacionality|Feature|Discrete||1 &mdash; Portuguese; 2 &mdash; German; 6 &mdash; Spanish; 11 &mdash; Italian; 13 &mdash; Dutch; 14 &mdash; English; 17 &mdash; Lithuanian; 21 &mdash; Angolan; <br>22 &mdash; Cape Verdean; 24 &mdash; Guinean; 25 &mdash; Mozambican; 26 &mdash; Santomean; 32 &mdash; Turkish; 41 &mdash; Brazilian; 62 &mdash; Romanian; <br> 100 &mdash; Moldova (Republic of); 101 &mdash; Mexican; 103 &mdash; Ukrainian; 105 &mdash; Russian; 108 &mdash; Cuban; 109 &mdash; Colombian|\n",
    "|Mother's qualification|Feature|Discrete|int|1 - Secondary Education - 12th Year of Schooling or Eq. 2 - Higher Education - Bachelor's Degree 3 - Higher Education - Degree 4 - Higher Education - Master's 5 - Higher Education - Doctorate 6 - Frequency of Higher Education 9 - 12th Year of Schooling - Not Completed 10 - 11th Year of Schooling - Not Completed 11 - 7th Year (Old) 12 - Other - 11th Year of Schooling 14 - 10th Year of Schooling 18 - General commerce course 19 - Basic Education 3rd Cycle (9th/10th/11th Year) or Equiv. 22 - Technical-professional course 26 - 7th year of schooling 27 - 2nd cycle of the general high school course 29 - 9th Year of Schooling - Not Completed 30 - 8th year of schooling 34 - Unknown 35 - Can't read or write 36 - Can read without having a 4th year of schooling 37 - Basic education 1st cycle (4th/5th year) or equiv. 38 - Basic Education 2nd Cycle (6th/7th/8th Year) or Equiv. 39 - Technological specialization course 40 - Higher education - degree (1st cycle) 41 - Specialized higher studies course 42 - Professional higher technical course 43 - Higher Education - Master (2nd cycle) 44 - Higher Education - Doctorate (3rd cycle)|\n",
    "|Father's qualification|Feature|Discrete|int|\t1 - Secondary Education - 12th Year of Schooling or Eq. 2 - Higher Education - Bachelor's Degree 3 - Higher Education - Degree 4 - Higher Education - Master's 5 - Higher Education - Doctorate 6 - Frequency of Higher Education 9 - 12th Year of Schooling - Not Completed 10 - 11th Year of Schooling - Not Completed 11 - 7th Year (Old) 12 - Other - 11th Year of Schooling 13 - 2nd year complementary high school course 14 - 10th Year of Schooling 18 - General commerce course 19 - Basic Education 3rd Cycle (9th/10th/11th Year) or Equiv. 20 - Complementary High School Course 22 - Technical-professional course 25 - Complementary High School Course - not concluded 26 - 7th year of schooling 27 - 2nd cycle of the general high school course 29 - 9th Year of Schooling - Not Completed 30 - 8th year of schooling 31 - General Course of Administration and Commerce 33 - Supplementary Accounting and Administration 34 - Unknown 35 - Can't read or write 36 - Can read without having a 4th year of schooling 37 - Basic education 1st cycle (4th/5th year) or equiv. 38 - Basic Education 2nd Cycle (6th/7th/8th Year) or Equiv. 39 - Technological specialization course 40 - Higher education - degree (1st cycle) 41 - Specialized higher studies course 42 - Professional higher technical course 43 - Higher Education - Master (2nd cycle) 44 - Higher Education - Doctorate (3rd cycle|\n",
    "|Mother's occupation|Feature|Discrete|int|0 &ndash; Student 1 &ndash;  Representatives of the Legislative Power and Executive Bodies, Directors, Directors and Executive Managers 2 &ndash;  Specialists in Intellectual and Scientific Activities 3 &ndash;  Intermediate Level Technicians and Professions 4 &ndash;  Administrative staff 5 &ndash;  Personal Services, Security and Safety Workers and Sellers 6 &ndash;  Farmers and Skilled Workers in Agriculture, Fisheries and Forestry 7 &ndash;  Skilled Workers in Industry, Construction and Craftsmen 8 &ndash;  Installation and Machine Operators and Assembly Workers 9 &ndash;  Unskilled Workers 10 &ndash;  Armed Forces Professions 90 &ndash; Other Situation <br>99&ndash;  (blank) 122 &ndash;  Health professionals 123 - teachers 125 - Specialists in information and communication technologies (ICT) 131 - Intermediate level science and engineering technicians and professions 132 - Technicians and professionals, of intermediate level of health 134 - Intermediate level technicians from legal, social, sports, cultural and similar services 141 - Office workers, secretaries in general and data processing operators 143 - Data, accounting, statistical, financial services and registry-related operators 144 - Other administrative support staff 151 - personal service workers 152 - sellers 153 - Personal care workers and the like 171 - Skilled construction workers and the like, except electricians 173 - Skilled workers in printing, precision instrument manufacturing, jewelers, artisans and the like 175 - Workers in food processing, woodworking, clothing and other industries and crafts 191 - cleaning workers 192 - Unskilled workers in agriculture, animal production, fisheries and forestry 193 - Unskilled workers in extractive industry, construction, manufacturing and transport 194 - Meal preparation assistants|\n",
    "|Father's occupation|Feature|Discrete|int|0 &ndash; Student 1 &ndash; Representatives of the Legislative Power and Executive Bodies, Directors, Directors and Executive Managers <br>2 &ndash; Specialists in Intellectual and Scientific Activities 3 &ndash;Intermediate Level Technicians and Professions 4 &ndash; Administrative staff <br>5 &ndash; Personal Services, Security and Safety Workers and Sellers 6 &ndash; Farmers and Skilled Workers in Agriculture, Fisheries and Forestry 7 &ndash; Skilled Workers in Industry, Construction and Craftsmen 8 &ndash; Installation and Machine Operators and Assembly Workers 9 &ndash; Unskilled Workers 10 &ndash; Armed Forces Professions 90 &ndash; Other Situation 99 &ndash; (blank) 101 &ndash; Armed Forces Officers <br>102 &ndash; Armed Forces Sergeants 103 &ndash; Other Armed Forces personnel 112 &ndash; Directors of administrative and commercial services 114 &ndash; Hotel, catering, trade and other services directors 121 - Specialists in the physical sciences, mathematics, engineering and related techniques 122 - Health professionals 123 - teachers 124 - Specialists in finance, accounting, administrative organization, public and commercial relations 131 - Intermediate level science and engineering technicians and professions 132 - Technicians and professionals, of intermediate level of health 134 - Intermediate level technicians from legal, social, sports, cultural and similar services 135 - Information and communication technology technicians 141 - Office workers, secretaries in general and data processing operators 143 - Data, accounting, statistical, financial services and registry-related operators 144 - Other administrative support staff 151 - personal service workers 152 - sellers 153 - Personal care workers and the like 154 - Protection and security services personnel 161 - Market-oriented farmers and skilled agricultural and animal production workers 163 - Farmers, livestock keepers, fishermen, hunters and gatherers, subsistence 171 - Skilled construction workers and the like, except electricians 172 - Skilled workers in metallurgy, metalworking and similar 174 - Skilled workers in electricity and electronics 175 - Workers in food processing, woodworking, clothing and other industries and crafts 181 - Fixed plant and machine operators 182 - assembly workers 183 - Vehicle drivers and mobile equipment operators 192 - Unskilled workers in agriculture, animal production, fisheries and forestry 193 - Unskilled workers in extractive industry, construction, manufacturing and transport <br>194 - Meal preparation assistants 195 - Street vendors (except food) and street service providers|\n",
    "|Admission grade|Feature|Continuous|float|Admission grade (between 0 and 200)|\n",
    "|Displaced|Feature|Discrete|int|1 &mdash; yes 0 &mdash; no|\n",
    "|Educational special needs|Feature|Discrete|int|1 &mdash; yes 0 &mdash; no|\n",
    "|Debtor|Feature|Discrete|int|1 &mdash; yes 0 &mdash; no|\n",
    "|Tuition fees up to date|Feature|Discrete|int|1 &mdash; yes 0 &mdash; no|\n",
    "|Gender|Feature|Discrete|int|1 &mdash; male 0 &mdash; female|\n",
    "|Scholarship holder|Feature|Discrete|int|1 &mdash; yes 0 &mdash; no|\n",
    "|Age at enrollment|Feature|Discrete|int|Age of studend at enrollment|\n",
    "|Scholarship holder|Feature|Discrete|int|1 &mdash; yes 0 &mdash; no|\n",
    "|International|Feature|Discrete|int|1 &mdash; yes 0 &mdash; no|\n",
    "|Curricular units 1st sem (credited)|Feature|Discrete|int|Number of curricular units credited in the 1st semester|\n",
    "|Curricular units 1st sem (enrolled)|Feature|Discrete|int|Number of curricular units enrolled in the 1st semester|\n",
    "|Curricular units 1st sem (evaluations)|Feature|Discrete|int|Number of evaluations to curricular units in the 1st semester|\n",
    "|Curricular units 1st sem (approved)|Feature|Discrete|int|Number of curricular units approved in the 1st semester|\n",
    "|Curricular units 1st sem (grade)|Feature|Discrete|float|Grade average in the 1st semester (between 0 and 20)|\n",
    "|Curricular units 1st sem (without evaluations)|Feature|Discrete|int|Number of curricular units without evalutions in the 1st semester|\n",
    "|Curricular units 2nd sem (credited)|Feature|Discrete|int|Number of curricular units credited in the 2nd semester|\n",
    "|Curricular units 2nd sem (enrolled)|Feature|Discrete|int|Number of curricular units enrolled in the 2nd semester|\n",
    "|Curricular units 2nd sem (evaluations)|Feature|Discrete|int|Number of evaluations to curricular units in the 2nd semester|\n",
    "|Curricular units 2nd sem (approved)|Feature|Discrete|int|Number of curricular units approved in the 2nd semester|\n",
    "|Curricular units 2nd sem (grade)|Feature|Discrete|float|Grade average in the 2nd semester (between 0 and 20)|\n",
    "|Curricular units 2nd sem (without evaluations)|Feature|Discrete|int|Number of curricular units without evalutions in the 1st semester|\n",
    "|Unemployment rate|Feature|Continuous|float|Unemployment rate (%)|\n",
    "|Inflation rate|Feature|Continuous|float|Inflation rate (%)|\n",
    "|GDP|Feature|Continuous|float|GDP|\n",
    "|Target|Target|Categorical|string|Target. The problem is formulated as a three category classification task (dropout, enrolled, and graduate) at the end of the normal duration of the course|\n"
   ]
  },
  {
   "cell_type": "markdown",
   "id": "24c5df74",
   "metadata": {},
   "source": [
    "### Import libraries and Visualization Packages\n",
    "Importing libraries at the beginning allows access to modules and other tools throughout this project that help to make the tasks within this project manageable to implement. The main libraries that will be used within this project include:\n",
    "\n",
    "* <code>pandas</code>: a data analysis and manipulation library which allows for flexible reading, writing, and reshaping of data\n",
    "* <code>numpy</code>: a key library that brings the computationaly power of languages like C to Python\n",
    "* <code>matplotlib</code>: a comprehensive visualization library\n",
    "* <code>seaborn</code>: a data visualization library based on matplotlib\n",
    "* <code>stasmodels</code>:\n",
    "* <code>selenium</code>:a library used to perform web testing tasks, useful for scraping data \n",
    "* <code>geopy</code>: a library that converts addresses in to geographical locations and vice versa\n",
    "* <code>requests</code>: a library that make HTTP requests and interacts with web services"
   ]
  },
  {
   "cell_type": "code",
   "execution_count": 1,
   "id": "b1a19ab6",
   "metadata": {},
   "outputs": [],
   "source": [
    "# Import libraries and visualization packages\n",
    "import pandas as pd\n",
    "import numpy as np\n",
    "import seaborn as sns\n",
    "import matplotlib.pyplot as plt\n",
    "import matplotlib.ticker as ticker\n",
    "import statsmodels.api as sm\n",
    "import geopandas as gpd\n",
    "import plotly.express as px\n",
    "from selenium import webdriver\n",
    "from selenium.common.exceptions import WebDriverException\n",
    "from geopy.distance import geodesic\n",
    "import requests\n",
    "import json\n",
    "import warnings\n",
    "warnings.simplefilter(action ='ignore', category = DeprecationWarning)\n",
    "warnings.simplefilter(action ='ignore', category = FutureWarning)\n",
    "warnings.filterwarnings(\"ignore\", category=UserWarning, module=\"pandas\")\n",
    "\n",
    "# Allow plots to display and be stored inline within a notebook\n",
    "%matplotlib inline\n",
    "\n",
    "# Used for working with the z-score \n",
    "from scipy import stats\n",
    "\n",
    "# Used for working with long url\n",
    "from urllib.parse import urlencode\n",
    "\n",
    "# Set display option to readable format\n",
    "pd.set_option('display.float_format', lambda x: '%.2f' % x)\n",
    "\n",
    "# Filter warnings from pandas\n",
    "pd.options.mode.chained_assignment = None"
   ]
  },
  {
   "cell_type": "markdown",
   "id": "e6a0402b",
   "metadata": {},
   "source": [
    "### Check library versions:"
   ]
  },
  {
   "cell_type": "code",
   "execution_count": 2,
   "id": "e6e224bc",
   "metadata": {},
   "outputs": [
    {
     "name": "stdout",
     "output_type": "stream",
     "text": [
      "Pandas version:\n"
     ]
    },
    {
     "data": {
      "text/plain": [
       "'1.1.3'"
      ]
     },
     "execution_count": 2,
     "metadata": {},
     "output_type": "execute_result"
    }
   ],
   "source": [
    "# Check Pandas version\n",
    "print (\"Pandas version:\")\n",
    "pd.__version__"
   ]
  },
  {
   "cell_type": "code",
   "execution_count": 3,
   "id": "2893bdec",
   "metadata": {},
   "outputs": [
    {
     "name": "stdout",
     "output_type": "stream",
     "text": [
      "Numpy version:\n"
     ]
    },
    {
     "data": {
      "text/plain": [
       "'1.24.4'"
      ]
     },
     "execution_count": 3,
     "metadata": {},
     "output_type": "execute_result"
    }
   ],
   "source": [
    "# Check Numpy version\n",
    "print(\"Numpy version:\")\n",
    "np.__version__"
   ]
  },
  {
   "cell_type": "code",
   "execution_count": 4,
   "id": "cac94681",
   "metadata": {},
   "outputs": [
    {
     "name": "stdout",
     "output_type": "stream",
     "text": [
      "Seaborn version:\n"
     ]
    },
    {
     "data": {
      "text/plain": [
       "'0.11.0'"
      ]
     },
     "execution_count": 4,
     "metadata": {},
     "output_type": "execute_result"
    }
   ],
   "source": [
    "# Check Seaborn version\n",
    "print(\"Seaborn version:\")\n",
    "sns.__version__"
   ]
  },
  {
   "cell_type": "code",
   "execution_count": 5,
   "id": "51638bf3",
   "metadata": {},
   "outputs": [
    {
     "name": "stdout",
     "output_type": "stream",
     "text": [
      "Statsmodel version:\n"
     ]
    },
    {
     "data": {
      "text/plain": [
       "'0.13.5'"
      ]
     },
     "execution_count": 5,
     "metadata": {},
     "output_type": "execute_result"
    }
   ],
   "source": [
    "# Check Statsmodel version\n",
    "print(\"Statsmodel version:\")\n",
    "sm.__version__"
   ]
  },
  {
   "cell_type": "code",
   "execution_count": 6,
   "id": "0bdb87ee",
   "metadata": {},
   "outputs": [],
   "source": [
    "# Class: DataExploration\n",
    "# This class provides methods for exploring and analyzing a dataset.\n",
    "class DataExploration:\n",
    "    def __init__(self, data_path):\n",
    "        \"\"\"\n",
    "        Constructor for the DataExploration class.\n",
    "            \n",
    "        Parameter:\n",
    "        - data_path(str): Path to the dataset file (provides the class with the information \n",
    "                          needed to locate and load the dataset.\n",
    "        \n",
    "        Initializes the data_path attribute and sets data to None (shows no data has been loaded yet).\n",
    "        \"\"\"\n",
    "        self.data_path = data_path\n",
    "        self.data = None\n",
    "    \n",
    "    \n",
    "    def load_data(self):\n",
    "        \"\"\"\n",
    "        Loads the dataset from the data_path we specified using pandas.\n",
    "        Assumes the dataset is in CSV format with semicolons(;) as the separator.\n",
    "        Assigns the loaded data to the data attribute.\n",
    "        \"\"\"\n",
    "        self.data = pd.read_csv(self.data_path, sep = ';')\n",
    "\n",
    "    def examine_structure(self):\n",
    "        \"\"\"\n",
    "        Prints the data structure and displays the first few rows of the dataset.\n",
    "        Also displays the data information including the number of rows, columns, and datatypes.\n",
    "        \"\"\"\n",
    "        print(\"Data Shape: \")\n",
    "        display(self.data.shape)\n",
    "        print(\"Data Structure: \")\n",
    "        display(self.data.head())\n",
    "        print(\"\\nData Information:\")\n",
    "        display(self.data.info())\n",
    "        \n",
    "    def check_missing_values(self):\n",
    "        \"\"\"\n",
    "        Checks and displays the number of missing values in each column of the dataset.\n",
    "        \"\"\"\n",
    "        print(\"\\nMissing Values: \")\n",
    "        display(self.data.isnull().sum())\n",
    "        \n",
    "    def plot_gender_distribution(self):\n",
    "        \"\"\"\n",
    "        Plots the gender distribution from the dataset.\n",
    "        \"\"\"\n",
    "        plt.style.use('fivethirtyeight')\n",
    "        gender_counts = self.data['Gender'].value_counts()\n",
    "        gender_labels = ['Female', 'Male']\n",
    "        gender_values = [gender_counts[0], gender_counts[1]]\n",
    "        \n",
    "        plt.figure(figsize = (8,6))\n",
    "        ax = sns.barplot(x = gender_labels, y = gender_values, color = 'blue')\n",
    "                \n",
    "        plt.xlabel('Gender', fontsize = 14, weight = 'bold')\n",
    "        plt.ylabel('Number of Students', fontsize = 14, weight = 'bold')\n",
    "        plt.title('Gender Distribution of College Students',fontsize = 18, weight = 'bold')\n",
    "                \n",
    "        plt.show()\n",
    "        \n",
    "    \n",
    "    def plot_dropout_by_gender(self):\n",
    "        \"\"\"\n",
    "        Plots the gender distribution of students who dropout from the dataset.\n",
    "        \"\"\"\n",
    "        plt.style.use('fivethirtyeight')\n",
    "        dropout_data = self.data[self.data['Target']=='Dropout']\n",
    "        dropout_data['Gender']= dropout_data['Gender'].map({1:'Male', 0:'Female'})\n",
    "\n",
    "        \n",
    "        plt.figure(figsize = (8,6))\n",
    "        ax = sns.countplot(x = 'Gender', data = dropout_data, color = 'blue')\n",
    "                \n",
    "        plt.xlabel('Gender', fontsize = 14, weight = 'bold')\n",
    "        plt.ylabel('Number of Students', fontsize = 14, weight = 'bold')\n",
    "        plt.title('Distribution of Dropouts by Gender',fontsize = 18, weight = 'bold')\n",
    "                \n",
    "        plt.show()        \n",
    "        \n",
    "    def plot_target_distribution(self):\n",
    "        \"\"\"\n",
    "        Plots the gender distribute of the target variable from the dataset.\n",
    "        \"\"\"\n",
    "    \n",
    "        target_data = self.data['Target']\n",
    "        target_labels = ['Dropout', 'Enrolled', 'Graduate']\n",
    "  \n",
    "        \n",
    "        plt.figure(figsize = (8,6))\n",
    "        ax = sns.countplot(x = target_labels, data = target_data, color = 'blue')\n",
    "                \n",
    "        plt.xlabel('Status', fontsize = 14, weight = 'bold')\n",
    "        plt.ylabel('Percentage of Students', fontsize = 14, weight = 'bold')\n",
    "        plt.title('Progress to Graduation Distribution of College Students',fontsize = 18, weight = 'bold')\n",
    "        \n",
    "        plt.show()\n",
    "                "
   ]
  },
  {
   "cell_type": "markdown",
   "id": "66a4c159",
   "metadata": {},
   "source": [
    "## Data Preparation"
   ]
  },
  {
   "cell_type": "code",
   "execution_count": 7,
   "id": "e9faae8d",
   "metadata": {
    "scrolled": false
   },
   "outputs": [
    {
     "name": "stdout",
     "output_type": "stream",
     "text": [
      "Data Shape: \n"
     ]
    },
    {
     "data": {
      "text/plain": [
       "(4424, 37)"
      ]
     },
     "metadata": {},
     "output_type": "display_data"
    },
    {
     "name": "stdout",
     "output_type": "stream",
     "text": [
      "Data Structure: \n"
     ]
    },
    {
     "data": {
      "text/html": [
       "<div>\n",
       "<style scoped>\n",
       "    .dataframe tbody tr th:only-of-type {\n",
       "        vertical-align: middle;\n",
       "    }\n",
       "\n",
       "    .dataframe tbody tr th {\n",
       "        vertical-align: top;\n",
       "    }\n",
       "\n",
       "    .dataframe thead th {\n",
       "        text-align: right;\n",
       "    }\n",
       "</style>\n",
       "<table border=\"1\" class=\"dataframe\">\n",
       "  <thead>\n",
       "    <tr style=\"text-align: right;\">\n",
       "      <th></th>\n",
       "      <th>Marital status</th>\n",
       "      <th>Application mode</th>\n",
       "      <th>Application order</th>\n",
       "      <th>Course</th>\n",
       "      <th>Daytime/evening attendance\\t</th>\n",
       "      <th>Previous qualification</th>\n",
       "      <th>Previous qualification (grade)</th>\n",
       "      <th>Nacionality</th>\n",
       "      <th>Mother's qualification</th>\n",
       "      <th>Father's qualification</th>\n",
       "      <th>...</th>\n",
       "      <th>Curricular units 2nd sem (credited)</th>\n",
       "      <th>Curricular units 2nd sem (enrolled)</th>\n",
       "      <th>Curricular units 2nd sem (evaluations)</th>\n",
       "      <th>Curricular units 2nd sem (approved)</th>\n",
       "      <th>Curricular units 2nd sem (grade)</th>\n",
       "      <th>Curricular units 2nd sem (without evaluations)</th>\n",
       "      <th>Unemployment rate</th>\n",
       "      <th>Inflation rate</th>\n",
       "      <th>GDP</th>\n",
       "      <th>Target</th>\n",
       "    </tr>\n",
       "  </thead>\n",
       "  <tbody>\n",
       "    <tr>\n",
       "      <th>0</th>\n",
       "      <td>1</td>\n",
       "      <td>17</td>\n",
       "      <td>5</td>\n",
       "      <td>171</td>\n",
       "      <td>1</td>\n",
       "      <td>1</td>\n",
       "      <td>122.00</td>\n",
       "      <td>1</td>\n",
       "      <td>19</td>\n",
       "      <td>12</td>\n",
       "      <td>...</td>\n",
       "      <td>0</td>\n",
       "      <td>0</td>\n",
       "      <td>0</td>\n",
       "      <td>0</td>\n",
       "      <td>0.00</td>\n",
       "      <td>0</td>\n",
       "      <td>10.80</td>\n",
       "      <td>1.40</td>\n",
       "      <td>1.74</td>\n",
       "      <td>Dropout</td>\n",
       "    </tr>\n",
       "    <tr>\n",
       "      <th>1</th>\n",
       "      <td>1</td>\n",
       "      <td>15</td>\n",
       "      <td>1</td>\n",
       "      <td>9254</td>\n",
       "      <td>1</td>\n",
       "      <td>1</td>\n",
       "      <td>160.00</td>\n",
       "      <td>1</td>\n",
       "      <td>1</td>\n",
       "      <td>3</td>\n",
       "      <td>...</td>\n",
       "      <td>0</td>\n",
       "      <td>6</td>\n",
       "      <td>6</td>\n",
       "      <td>6</td>\n",
       "      <td>13.67</td>\n",
       "      <td>0</td>\n",
       "      <td>13.90</td>\n",
       "      <td>-0.30</td>\n",
       "      <td>0.79</td>\n",
       "      <td>Graduate</td>\n",
       "    </tr>\n",
       "    <tr>\n",
       "      <th>2</th>\n",
       "      <td>1</td>\n",
       "      <td>1</td>\n",
       "      <td>5</td>\n",
       "      <td>9070</td>\n",
       "      <td>1</td>\n",
       "      <td>1</td>\n",
       "      <td>122.00</td>\n",
       "      <td>1</td>\n",
       "      <td>37</td>\n",
       "      <td>37</td>\n",
       "      <td>...</td>\n",
       "      <td>0</td>\n",
       "      <td>6</td>\n",
       "      <td>0</td>\n",
       "      <td>0</td>\n",
       "      <td>0.00</td>\n",
       "      <td>0</td>\n",
       "      <td>10.80</td>\n",
       "      <td>1.40</td>\n",
       "      <td>1.74</td>\n",
       "      <td>Dropout</td>\n",
       "    </tr>\n",
       "    <tr>\n",
       "      <th>3</th>\n",
       "      <td>1</td>\n",
       "      <td>17</td>\n",
       "      <td>2</td>\n",
       "      <td>9773</td>\n",
       "      <td>1</td>\n",
       "      <td>1</td>\n",
       "      <td>122.00</td>\n",
       "      <td>1</td>\n",
       "      <td>38</td>\n",
       "      <td>37</td>\n",
       "      <td>...</td>\n",
       "      <td>0</td>\n",
       "      <td>6</td>\n",
       "      <td>10</td>\n",
       "      <td>5</td>\n",
       "      <td>12.40</td>\n",
       "      <td>0</td>\n",
       "      <td>9.40</td>\n",
       "      <td>-0.80</td>\n",
       "      <td>-3.12</td>\n",
       "      <td>Graduate</td>\n",
       "    </tr>\n",
       "    <tr>\n",
       "      <th>4</th>\n",
       "      <td>2</td>\n",
       "      <td>39</td>\n",
       "      <td>1</td>\n",
       "      <td>8014</td>\n",
       "      <td>0</td>\n",
       "      <td>1</td>\n",
       "      <td>100.00</td>\n",
       "      <td>1</td>\n",
       "      <td>37</td>\n",
       "      <td>38</td>\n",
       "      <td>...</td>\n",
       "      <td>0</td>\n",
       "      <td>6</td>\n",
       "      <td>6</td>\n",
       "      <td>6</td>\n",
       "      <td>13.00</td>\n",
       "      <td>0</td>\n",
       "      <td>13.90</td>\n",
       "      <td>-0.30</td>\n",
       "      <td>0.79</td>\n",
       "      <td>Graduate</td>\n",
       "    </tr>\n",
       "  </tbody>\n",
       "</table>\n",
       "<p>5 rows × 37 columns</p>\n",
       "</div>"
      ],
      "text/plain": [
       "   Marital status  Application mode  Application order  Course  \\\n",
       "0               1                17                  5     171   \n",
       "1               1                15                  1    9254   \n",
       "2               1                 1                  5    9070   \n",
       "3               1                17                  2    9773   \n",
       "4               2                39                  1    8014   \n",
       "\n",
       "   Daytime/evening attendance\\t  Previous qualification  \\\n",
       "0                             1                       1   \n",
       "1                             1                       1   \n",
       "2                             1                       1   \n",
       "3                             1                       1   \n",
       "4                             0                       1   \n",
       "\n",
       "   Previous qualification (grade)  Nacionality  Mother's qualification  \\\n",
       "0                          122.00            1                      19   \n",
       "1                          160.00            1                       1   \n",
       "2                          122.00            1                      37   \n",
       "3                          122.00            1                      38   \n",
       "4                          100.00            1                      37   \n",
       "\n",
       "   Father's qualification  ...  Curricular units 2nd sem (credited)  \\\n",
       "0                      12  ...                                    0   \n",
       "1                       3  ...                                    0   \n",
       "2                      37  ...                                    0   \n",
       "3                      37  ...                                    0   \n",
       "4                      38  ...                                    0   \n",
       "\n",
       "   Curricular units 2nd sem (enrolled)  \\\n",
       "0                                    0   \n",
       "1                                    6   \n",
       "2                                    6   \n",
       "3                                    6   \n",
       "4                                    6   \n",
       "\n",
       "   Curricular units 2nd sem (evaluations)  \\\n",
       "0                                       0   \n",
       "1                                       6   \n",
       "2                                       0   \n",
       "3                                      10   \n",
       "4                                       6   \n",
       "\n",
       "   Curricular units 2nd sem (approved)  Curricular units 2nd sem (grade)  \\\n",
       "0                                    0                              0.00   \n",
       "1                                    6                             13.67   \n",
       "2                                    0                              0.00   \n",
       "3                                    5                             12.40   \n",
       "4                                    6                             13.00   \n",
       "\n",
       "   Curricular units 2nd sem (without evaluations)  Unemployment rate  \\\n",
       "0                                               0              10.80   \n",
       "1                                               0              13.90   \n",
       "2                                               0              10.80   \n",
       "3                                               0               9.40   \n",
       "4                                               0              13.90   \n",
       "\n",
       "   Inflation rate   GDP    Target  \n",
       "0            1.40  1.74   Dropout  \n",
       "1           -0.30  0.79  Graduate  \n",
       "2            1.40  1.74   Dropout  \n",
       "3           -0.80 -3.12  Graduate  \n",
       "4           -0.30  0.79  Graduate  \n",
       "\n",
       "[5 rows x 37 columns]"
      ]
     },
     "metadata": {},
     "output_type": "display_data"
    },
    {
     "name": "stdout",
     "output_type": "stream",
     "text": [
      "\n",
      "Data Information:\n",
      "<class 'pandas.core.frame.DataFrame'>\n",
      "RangeIndex: 4424 entries, 0 to 4423\n",
      "Data columns (total 37 columns):\n",
      " #   Column                                          Non-Null Count  Dtype  \n",
      "---  ------                                          --------------  -----  \n",
      " 0   Marital status                                  4424 non-null   int64  \n",
      " 1   Application mode                                4424 non-null   int64  \n",
      " 2   Application order                               4424 non-null   int64  \n",
      " 3   Course                                          4424 non-null   int64  \n",
      " 4   Daytime/evening attendance\t                     4424 non-null   int64  \n",
      " 5   Previous qualification                          4424 non-null   int64  \n",
      " 6   Previous qualification (grade)                  4424 non-null   float64\n",
      " 7   Nacionality                                     4424 non-null   int64  \n",
      " 8   Mother's qualification                          4424 non-null   int64  \n",
      " 9   Father's qualification                          4424 non-null   int64  \n",
      " 10  Mother's occupation                             4424 non-null   int64  \n",
      " 11  Father's occupation                             4424 non-null   int64  \n",
      " 12  Admission grade                                 4424 non-null   float64\n",
      " 13  Displaced                                       4424 non-null   int64  \n",
      " 14  Educational special needs                       4424 non-null   int64  \n",
      " 15  Debtor                                          4424 non-null   int64  \n",
      " 16  Tuition fees up to date                         4424 non-null   int64  \n",
      " 17  Gender                                          4424 non-null   int64  \n",
      " 18  Scholarship holder                              4424 non-null   int64  \n",
      " 19  Age at enrollment                               4424 non-null   int64  \n",
      " 20  International                                   4424 non-null   int64  \n",
      " 21  Curricular units 1st sem (credited)             4424 non-null   int64  \n",
      " 22  Curricular units 1st sem (enrolled)             4424 non-null   int64  \n",
      " 23  Curricular units 1st sem (evaluations)          4424 non-null   int64  \n",
      " 24  Curricular units 1st sem (approved)             4424 non-null   int64  \n",
      " 25  Curricular units 1st sem (grade)                4424 non-null   float64\n",
      " 26  Curricular units 1st sem (without evaluations)  4424 non-null   int64  \n",
      " 27  Curricular units 2nd sem (credited)             4424 non-null   int64  \n",
      " 28  Curricular units 2nd sem (enrolled)             4424 non-null   int64  \n",
      " 29  Curricular units 2nd sem (evaluations)          4424 non-null   int64  \n",
      " 30  Curricular units 2nd sem (approved)             4424 non-null   int64  \n",
      " 31  Curricular units 2nd sem (grade)                4424 non-null   float64\n",
      " 32  Curricular units 2nd sem (without evaluations)  4424 non-null   int64  \n",
      " 33  Unemployment rate                               4424 non-null   float64\n",
      " 34  Inflation rate                                  4424 non-null   float64\n",
      " 35  GDP                                             4424 non-null   float64\n",
      " 36  Target                                          4424 non-null   object \n",
      "dtypes: float64(7), int64(29), object(1)\n",
      "memory usage: 1.2+ MB\n"
     ]
    },
    {
     "data": {
      "text/plain": [
       "None"
      ]
     },
     "metadata": {},
     "output_type": "display_data"
    },
    {
     "name": "stdout",
     "output_type": "stream",
     "text": [
      "\n",
      "Missing Values: \n"
     ]
    },
    {
     "data": {
      "text/plain": [
       "Marital status                                    0\n",
       "Application mode                                  0\n",
       "Application order                                 0\n",
       "Course                                            0\n",
       "Daytime/evening attendance\\t                      0\n",
       "Previous qualification                            0\n",
       "Previous qualification (grade)                    0\n",
       "Nacionality                                       0\n",
       "Mother's qualification                            0\n",
       "Father's qualification                            0\n",
       "Mother's occupation                               0\n",
       "Father's occupation                               0\n",
       "Admission grade                                   0\n",
       "Displaced                                         0\n",
       "Educational special needs                         0\n",
       "Debtor                                            0\n",
       "Tuition fees up to date                           0\n",
       "Gender                                            0\n",
       "Scholarship holder                                0\n",
       "Age at enrollment                                 0\n",
       "International                                     0\n",
       "Curricular units 1st sem (credited)               0\n",
       "Curricular units 1st sem (enrolled)               0\n",
       "Curricular units 1st sem (evaluations)            0\n",
       "Curricular units 1st sem (approved)               0\n",
       "Curricular units 1st sem (grade)                  0\n",
       "Curricular units 1st sem (without evaluations)    0\n",
       "Curricular units 2nd sem (credited)               0\n",
       "Curricular units 2nd sem (enrolled)               0\n",
       "Curricular units 2nd sem (evaluations)            0\n",
       "Curricular units 2nd sem (approved)               0\n",
       "Curricular units 2nd sem (grade)                  0\n",
       "Curricular units 2nd sem (without evaluations)    0\n",
       "Unemployment rate                                 0\n",
       "Inflation rate                                    0\n",
       "GDP                                               0\n",
       "Target                                            0\n",
       "dtype: int64"
      ]
     },
     "metadata": {},
     "output_type": "display_data"
    }
   ],
   "source": [
    "# Main excution\n",
    "\n",
    "if __name__ == '__main__':\n",
    "    # Initialize the DataExploration object\n",
    "    data_exploration = DataExploration('data/data.csv')\n",
    "    \n",
    "    # Load the data\n",
    "    data_exploration.load_data()\n",
    "    \n",
    "    # Examine data\n",
    "    data_exploration.examine_structure()\n",
    "    data_exploration.check_missing_values()\n",
    "    \n"
   ]
  },
  {
   "cell_type": "markdown",
   "id": "893780b5",
   "metadata": {},
   "source": [
    "### Data Exploration"
   ]
  },
  {
   "cell_type": "code",
   "execution_count": 8,
   "id": "92431ac5",
   "metadata": {
    "scrolled": false
   },
   "outputs": [
    {
     "data": {
      "image/png": "[encoded data removed]",
      "text/plain": [
       "<Figure size 576x432 with 1 Axes>"
      ]
     },
     "metadata": {},
     "output_type": "display_data"
    },
    {
     "data": {
      "image/png": "[encoded data removed]",
      "text/plain": [
       "<Figure size 576x432 with 1 Axes>"
      ]
     },
     "metadata": {},
     "output_type": "display_data"
    },
    {
     "data": {
      "image/png": "[encoded data removed]",
      "text/plain": [
       "<Figure size 576x432 with 1 Axes>"
      ]
     },
     "metadata": {},
     "output_type": "display_data"
    }
   ],
   "source": [
    "if __name__ == '__main__':\n",
    "    # Plot the gender distribution of the data\n",
    "    data_exploration.plot_gender_distribution()\n",
    "    \n",
    "    # Plot the dropout distribution by gender\n",
    "    data_exploration.plot_dropout_by_gender()\n",
    "    \n",
    "    # Plote the Progress to graduation distribution by gender\n",
    "    data_exploration.plot_target_distribution()"
   ]
  },
  {
   "cell_type": "markdown",
   "id": "0e52ed37",
   "metadata": {},
   "source": [
    "## Modeling"
   ]
  },
  {
   "cell_type": "markdown",
   "id": "bd0de04c",
   "metadata": {},
   "source": [
    "## Evaluation"
   ]
  },
  {
   "cell_type": "markdown",
   "id": "2c97ec95",
   "metadata": {},
   "source": [
    "## Recommendations"
   ]
  },
  {
   "cell_type": "code",
   "execution_count": null,
   "id": "a995b1a6",
   "metadata": {},
   "outputs": [],
   "source": []
  }
 ],
 "metadata": {
  "kernelspec": {
   "display_name": "Python (learn-env)",
   "language": "python",
   "name": "learn-env"
  },
  "language_info": {
   "codemirror_mode": {
    "name": "ipython",
    "version": 3
   },
   "file_extension": ".py",
   "mimetype": "text/x-python",
   "name": "python",
   "nbconvert_exporter": "python",
   "pygments_lexer": "ipython3",
   "version": "3.8.5"
  },
  "toc": {
   "base_numbering": 1,
   "nav_menu": {},
   "number_sections": true,
   "sideBar": true,
   "skip_h1_title": false,
   "title_cell": "Table of Contents",
   "title_sidebar": "Contents",
   "toc_cell": false,
   "toc_position": {},
   "toc_section_display": true,
   "toc_window_display": true
  },
  "varInspector": {
   "cols": {
    "lenName": 16,
    "lenType": 16,
    "lenVar": 40
   },
   "kernels_config": {
    "python": {
     "delete_cmd_postfix": "",
     "delete_cmd_prefix": "del ",
     "library": "var_list.py",
     "varRefreshCmd": "print(var_dic_list())"
    },
    "r": {
     "delete_cmd_postfix": ") ",
     "delete_cmd_prefix": "rm(",
     "library": "var_list.r",
     "varRefreshCmd": "cat(var_dic_list()) "
    }
   },
   "types_to_exclude": [
    "module",
    "function",
    "builtin_function_or_method",
    "instance",
    "_Feature"
   ],
   "window_display": false
  }
 },
 "nbformat": 4,
 "nbformat_minor": 5
}
